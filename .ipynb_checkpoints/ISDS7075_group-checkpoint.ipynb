{
 "cells": [
  {
   "cell_type": "markdown",
   "id": "0a9a773f-2259-4ba7-bcd4-02de8c8dcd47",
   "metadata": {},
   "source": [
    "<h3>Import Required Packages & Data</h3>"
   ]
  },
  {
   "cell_type": "code",
   "execution_count": 2,
   "id": "e74e4322-8602-486a-b907-c474c7c47220",
   "metadata": {},
   "outputs": [],
   "source": [
    "#import required packages\n",
    "import pandas as pd\n",
    "import numpy as np\n",
    "import matplotlib.pyplot as plt\n",
    "import seaborn as sns\n",
    "\n",
    "pd.set_option('display.max_columns', None)"
   ]
  },
  {
   "cell_type": "code",
   "execution_count": 3,
   "id": "cc4723f0-93b8-478f-9c25-e72da94d6af3",
   "metadata": {},
   "outputs": [],
   "source": [
    "#import file\n",
    "file = 'Chicago_Crimes_2016.csv'\n",
    "df_crime = pd.read_csv(file)"
   ]
  },
  {
   "cell_type": "markdown",
   "id": "4dcedfa9-02f4-44a5-a258-78eb966cd34b",
   "metadata": {},
   "source": [
    "<h3>Review the Data</h3>"
   ]
  },
  {
   "cell_type": "code",
   "execution_count": null,
   "id": "173a6476-94cb-4503-b514-0cf73f9fa3d0",
   "metadata": {},
   "outputs": [],
   "source": [
    "#review a summary of the dataframe\n",
    "df_crime.info()"
   ]
  },
  {
   "cell_type": "markdown",
   "id": "0241084f-3903-48d2-8702-9b59db3dd88f",
   "metadata": {},
   "source": [
    "<b>Observation #1:</b> There is an unnamed column. Depending on what values are in this column, we may be able to drop it from our dataset.</br></br>\n",
    "<b>Observation #2:</b> Several columns have missing data: Case Number, Location Description, District, Ward, Community Area, X Coordinate, Y Coordinate, Latitude, Longitude, & Location. We will need to detemine whether or not we want to drop these rows/columns or replace the NULL values with the mean value.</br></br>\n",
    "<b>Observation #3:</b> There are several columns that seem to revolve around the location of the crime (Location Description, District, Community Area, X Coordinate, Y Coordinate, Latitude, Longitude, & Location). We may be able to drop a few of these columns from our dataset.</br></br>\n",
    "<b>Observation #4:</b> The <i>Date</i> and <i>Updated On</i> columns are currently labeled as \"object.\" We should update the data types appropriately. Additionally, the <i>Year</i> column may be irrelevant, as the year is already within the <i>Date</i> field."
   ]
  },
  {
   "cell_type": "code",
   "execution_count": null,
   "id": "b96318dd-9c61-4ed4-a49c-1b0996cd204f",
   "metadata": {},
   "outputs": [],
   "source": [
    "#review a sample of the data within the dataframe\n",
    "df_crime.head(10)"
   ]
  },
  {
   "cell_type": "markdown",
   "id": "f3cc448f-b768-47ac-98be-1a9ca3673c23",
   "metadata": {},
   "source": [
    "<b>Observation #5:</b> The <i>Date</i> and <i>Updated On</i> columns contain both date and time. We need to consider this when updating the data type.</br></br>\n",
    "<b>Observation #6:</b> The <i>Location</i> column contains a concatination of <i>Latitude</i> and <i>Longitude</i>. We can consider dropping either just the <i>Location</i> column, or both the <i>Latitude</i> and <i>Longitude</i> columns.</br></br>\n",
    "<b>Observation #7:</b> The <i>District, Ward, Community, X Coordinate,</i> and <i>Y Coordinate</i> columns are set as \"float,\" however \"integer\" may be a more appropriate data type.</br></br>\n",
    "<b>Observation #8:</b> The <i>Block</i> field contains street names. We may be able to create a new column for streets instead of block, which should help to standardize the data.</br></br>\n",
    "<b>Observation #9:</b> According to Google, <i>IUCR</i> stands for \"Illinois Uniform Crime Reporting.\" This column may not be relevant to our objective and may be able to be dropped."
   ]
  },
  {
   "cell_type": "code",
   "execution_count": null,
   "id": "601e7ef1-6c5b-44c4-a8fd-eaf5c931f271",
   "metadata": {},
   "outputs": [],
   "source": [
    "#review a summary of the data within the dataframe\n",
    "df_crime.describe()"
   ]
  },
  {
   "cell_type": "markdown",
   "id": "f2ce46e2-790c-4296-b1e2-9d1729453cc3",
   "metadata": {},
   "source": [
    "<b>Observation #10:</b> There's not much that the describe function tells us at this time."
   ]
  },
  {
   "cell_type": "code",
   "execution_count": null,
   "id": "a8a9dd59-dcf3-41fc-a69f-679e0bdf21f0",
   "metadata": {},
   "outputs": [],
   "source": [
    "pd.set_option('display.max_rows',None)\n",
    "df_crime[\"Location Description\"].value_counts()"
   ]
  },
  {
   "cell_type": "markdown",
   "id": "ce7686bb-a0cd-45b0-8e00-dee3ef456105",
   "metadata": {},
   "source": [
    "<b>Observation #11:</b> There are 142 different values within the Location Description column. We should consider binning these for our model."
   ]
  },
  {
   "cell_type": "markdown",
   "id": "d359bc4c-e4eb-4702-80cd-76b1ecbedeef",
   "metadata": {},
   "source": [
    "<h3>Wrangle the Data</h3>"
   ]
  },
  {
   "cell_type": "code",
   "execution_count": null,
   "id": "dd7a54c8-d11d-497d-aeca-511d87c6cbb9",
   "metadata": {},
   "outputs": [],
   "source": [
    "#remove unnecessary columns\n",
    "df_crime.drop([\"Unnamed: 0\",\"ID\",\"Case Number\",\"Location\", \"Year\", \"IUCR\", \"X Coordinate\", \"Y Coordinate\"], axis=1, inplace=True)\n",
    "    \n",
    "#update datatypes\n",
    "#df_crime['Date'] = pd.to_datetime(df_crime['Date'])\n",
    "\n",
    "#review the dataframe info to ensure accuracy of wrangling\n",
    "df_crime.info()"
   ]
  },
  {
   "cell_type": "code",
   "execution_count": null,
   "id": "116fd2ff-8b82-473f-ac2c-a7a3a331ae42",
   "metadata": {},
   "outputs": [],
   "source": []
  }
 ],
 "metadata": {
  "kernelspec": {
   "display_name": "Python [conda env:base] *",
   "language": "python",
   "name": "conda-base-py"
  },
  "language_info": {
   "codemirror_mode": {
    "name": "ipython",
    "version": 3
   },
   "file_extension": ".py",
   "mimetype": "text/x-python",
   "name": "python",
   "nbconvert_exporter": "python",
   "pygments_lexer": "ipython3",
   "version": "3.13.5"
  }
 },
 "nbformat": 4,
 "nbformat_minor": 5
}
